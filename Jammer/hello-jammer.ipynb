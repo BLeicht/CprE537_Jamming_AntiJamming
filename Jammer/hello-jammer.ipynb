{
 "cells": [
  {
   "cell_type": "code",
   "execution_count": null,
   "metadata": {},
   "outputs": [],
   "source": []
  },
  {
   "cell_type": "markdown",
   "metadata": {},
   "source": [
    "## Discover 802.15.4 Jamming\n",
    "\n",
    "#### Radio settings\n",
    "\n",
    "If you are running this training at the same time as other people on the testbed, it is a good idea to change the default radio configuration to avoid too much collision with others.\n",
    "\n",
    "Use the following cell to give you random values for channel and PAN ID."
   ]
  },
  {
   "cell_type": "code",
   "execution_count": 24,
   "metadata": {},
   "outputs": [
    {
     "name": "stdout",
     "output_type": "stream",
     "text": [
      "Use CHANNEL=25, PAN_ID=0x9122\n"
     ]
    }
   ],
   "source": [
    "import os,binascii,random\n",
    "pan_id = binascii.b2a_hex(os.urandom(2)).decode()\n",
    "channel = random.randint(11, 26)\n",
    "print('Use CHANNEL={}, PAN_ID=0x{}'.format(channel, pan_id))"
   ]
  },
  {
   "cell_type": "markdown",
   "metadata": {},
   "source": [
    "For these values to be taken into account you can set an environment variable for the notebook. Modify the values in the cell below with those obtained and execute it."
   ]
  },
  {
   "cell_type": "code",
   "execution_count": 40,
   "metadata": {},
   "outputs": [
    {
     "name": "stdout",
     "output_type": "stream",
     "text": [
      "env: CHANNEL=26\n"
     ]
    }
   ],
   "source": [
    "%env CHANNEL=26"
   ]
  },
  {
   "cell_type": "code",
   "execution_count": 39,
   "metadata": {},
   "outputs": [
    {
     "name": "stdout",
     "output_type": "stream",
     "text": [
      "env: PAN_ID=0x0001\n"
     ]
    }
   ],
   "source": [
    "%env PAN_ID=0x0001"
   ]
  },
  {
   "cell_type": "markdown",
   "metadata": {},
   "source": [
    "### Compile the RIOT firmware\n",
    "\n",
    "Here you will use the `default` example from RIOT.\n",
    "\n",
    "Let's define a environment variable to shorten the command lines."
   ]
  },
  {
   "cell_type": "code",
   "execution_count": null,
   "metadata": {},
   "outputs": [],
   "source": [
    "%env APP_DIR = ."
   ]
  },
  {
   "cell_type": "markdown",
   "metadata": {},
   "source": [
    "Compile the example:"
   ]
  },
  {
   "cell_type": "code",
   "execution_count": null,
   "metadata": {},
   "outputs": [],
   "source": [
    "!make clean"
   ]
  },
  {
   "cell_type": "code",
   "execution_count": 41,
   "metadata": {},
   "outputs": [
    {
     "name": "stdout",
     "output_type": "stream",
     "text": [
      "make: Entering directory '/home/jovyan/work/training/CprE537_Jamming_AntiJamming/Jammer'\n",
      "\u001b[1;32mBuilding application \"hello-jammer\" for \"iotlab-m3\" with MCU \"stm32\".\u001b[0m\n",
      "\n",
      "\"make\" -C /home/jovyan/work/training/CprE537_Jamming_AntiJamming/Jammer/RIOT/boards/iotlab-m3\n",
      "\"make\" -C /home/jovyan/work/training/CprE537_Jamming_AntiJamming/Jammer/RIOT/boards/common/iotlab\n",
      "\"make\" -C /home/jovyan/work/training/CprE537_Jamming_AntiJamming/Jammer/RIOT/core\n",
      "\"make\" -C /home/jovyan/work/training/CprE537_Jamming_AntiJamming/Jammer/RIOT/cpu/stm32\n",
      "\"make\" -C /home/jovyan/work/training/CprE537_Jamming_AntiJamming/Jammer/RIOT/cpu/cortexm_common\n",
      "\"make\" -C /home/jovyan/work/training/CprE537_Jamming_AntiJamming/Jammer/RIOT/cpu/cortexm_common/periph\n",
      "\"make\" -C /home/jovyan/work/training/CprE537_Jamming_AntiJamming/Jammer/RIOT/cpu/stm32/periph\n",
      "\"make\" -C /home/jovyan/work/training/CprE537_Jamming_AntiJamming/Jammer/RIOT/cpu/stm32/stmclk\n",
      "\"make\" -C /home/jovyan/work/training/CprE537_Jamming_AntiJamming/Jammer/RIOT/cpu/stm32/vectors\n",
      "\"make\" -C /home/jovyan/work/training/CprE537_Jamming_AntiJamming/Jammer/RIOT/drivers\n",
      "\"make\" -C /home/jovyan/work/training/CprE537_Jamming_AntiJamming/Jammer/RIOT/drivers/at86rf2xx\n",
      "\"make\" -C /home/jovyan/work/training/CprE537_Jamming_AntiJamming/Jammer/RIOT/drivers/netdev\n",
      "\"make\" -C /home/jovyan/work/training/CprE537_Jamming_AntiJamming/Jammer/RIOT/drivers/periph_common\n",
      "\"make\" -C /home/jovyan/work/training/CprE537_Jamming_AntiJamming/Jammer/RIOT/sys\n",
      "\"make\" -C /home/jovyan/work/training/CprE537_Jamming_AntiJamming/Jammer/RIOT/sys/auto_init\n",
      "\"make\" -C /home/jovyan/work/training/CprE537_Jamming_AntiJamming/Jammer/RIOT/sys/div\n",
      "\"make\" -C /home/jovyan/work/training/CprE537_Jamming_AntiJamming/Jammer/RIOT/sys/fmt\n",
      "\"make\" -C /home/jovyan/work/training/CprE537_Jamming_AntiJamming/Jammer/RIOT/sys/frac\n",
      "\"make\" -C /home/jovyan/work/training/CprE537_Jamming_AntiJamming/Jammer/RIOT/sys/isrpipe\n",
      "\"make\" -C /home/jovyan/work/training/CprE537_Jamming_AntiJamming/Jammer/RIOT/sys/luid\n",
      "\"make\" -C /home/jovyan/work/training/CprE537_Jamming_AntiJamming/Jammer/RIOT/sys/malloc_thread_safe\n",
      "\"make\" -C /home/jovyan/work/training/CprE537_Jamming_AntiJamming/Jammer/RIOT/sys/net/link_layer/eui_provider\n",
      "\"make\" -C /home/jovyan/work/training/CprE537_Jamming_AntiJamming/Jammer/RIOT/sys/net/link_layer/ieee802154\n",
      "\"make\" -C /home/jovyan/work/training/CprE537_Jamming_AntiJamming/Jammer/RIOT/sys/newlib_syscalls_default\n",
      "\"make\" -C /home/jovyan/work/training/CprE537_Jamming_AntiJamming/Jammer/RIOT/sys/od\n",
      "\"make\" -C /home/jovyan/work/training/CprE537_Jamming_AntiJamming/Jammer/RIOT/sys/pm_layered\n",
      "\"make\" -C /home/jovyan/work/training/CprE537_Jamming_AntiJamming/Jammer/RIOT/sys/ps\n",
      "\"make\" -C /home/jovyan/work/training/CprE537_Jamming_AntiJamming/Jammer/RIOT/sys/random\n",
      "\"make\" -C /home/jovyan/work/training/CprE537_Jamming_AntiJamming/Jammer/RIOT/sys/shell\n",
      "\"make\" -C /home/jovyan/work/training/CprE537_Jamming_AntiJamming/Jammer/RIOT/sys/shell/commands\n",
      "\"make\" -C /home/jovyan/work/training/CprE537_Jamming_AntiJamming/Jammer/RIOT/sys/stdio_uart\n",
      "\"make\" -C /home/jovyan/work/training/CprE537_Jamming_AntiJamming/Jammer/RIOT/sys/tsrb\n",
      "\"make\" -C /home/jovyan/work/training/CprE537_Jamming_AntiJamming/Jammer/RIOT/sys/xtimer\n",
      "\"make\" -C /home/jovyan/work/training/CprE537_Jamming_AntiJamming/Jammer/RIOT/sys/ztimer\n",
      "   text\t   data\t    bss\t    dec\t    hex\tfilename\n",
      "  24792\t    140\t   5972\t  30904\t   78b8\t/home/jovyan/work/training/CprE537_Jamming_AntiJamming/Jammer/bin/iotlab-m3/hello-jammer.elf\n",
      "make: Leaving directory '/home/jovyan/work/training/CprE537_Jamming_AntiJamming/Jammer'\n"
     ]
    }
   ],
   "source": [
    "!make -C $APP_DIR BOARD=iotlab-m3 DEFAULT_CHANNEL=$CHANNEL DEFAULT_PAN_ID=$PAN_ID"
   ]
  },
  {
   "cell_type": "markdown",
   "metadata": {},
   "source": [
    "### Submit an experiment on IoT-LAB\n",
    "\n",
    "1. Choose your site (grenoble|lille|saclay|strasbourg):"
   ]
  },
  {
   "cell_type": "code",
   "execution_count": 42,
   "metadata": {},
   "outputs": [
    {
     "name": "stdout",
     "output_type": "stream",
     "text": [
      "env: SITE=strasbourg\n"
     ]
    }
   ],
   "source": [
    "%env SITE = strasbourg"
   ]
  },
  {
   "cell_type": "markdown",
   "metadata": {},
   "source": [
    "2. Submit an experiment with three nodes and the compiled firware:"
   ]
  },
  {
   "cell_type": "code",
   "execution_count": 44,
   "metadata": {},
   "outputs": [
    {
     "name": "stdout",
     "output_type": "stream",
     "text": [
      "{\n",
      "    \"id\": 369515\n",
      "}\n"
     ]
    }
   ],
   "source": [
    "!iotlab-experiment submit -n \"riot-802154\" -d 60 -l 1,archi=m3:at86rf231+site=strasbourg,$APP_DIR/bin/iotlab-m3/hello-jammer.elf,joe_cool"
   ]
  },
  {
   "cell_type": "markdown",
   "metadata": {},
   "source": [
    "3. Wait for the experiment to be in the Running state:"
   ]
  },
  {
   "cell_type": "code",
   "execution_count": 46,
   "metadata": {},
   "outputs": [
    {
     "name": "stdout",
     "output_type": "stream",
     "text": [
      "Waiting that experiment 369515 gets in state Running\n",
      "\"Running\"\n"
     ]
    }
   ],
   "source": [
    "!iotlab-experiment wait --timeout 30 --cancel-on-timeout"
   ]
  },
  {
   "cell_type": "markdown",
   "metadata": {},
   "source": [
    "**Note:** If the command above returns the message `Timeout reached, cancelling experiment <exp_id>`, try to re-submit your experiment later or try on another site."
   ]
  },
  {
   "cell_type": "markdown",
   "metadata": {},
   "source": [
    "4. Check the nodes allocated to the experiment (filtered by network address)"
   ]
  },
  {
   "cell_type": "code",
   "execution_count": 47,
   "metadata": {},
   "outputs": [
    {
     "name": "stdout",
     "output_type": "stream",
     "text": [
      "[\n",
      "    \"m3-1.strasbourg.iot-lab.info\",\n",
      "    \"m3-12.strasbourg.iot-lab.info\",\n",
      "    \"m3-13.strasbourg.iot-lab.info\",\n",
      "    \"m3-14.strasbourg.iot-lab.info\",\n",
      "    \"m3-15.strasbourg.iot-lab.info\",\n",
      "    \"m3-16.strasbourg.iot-lab.info\",\n",
      "    \"m3-17.strasbourg.iot-lab.info\",\n",
      "    \"m3-18.strasbourg.iot-lab.info\",\n",
      "    \"m3-19.strasbourg.iot-lab.info\",\n",
      "    \"m3-2.strasbourg.iot-lab.info\",\n",
      "    \"m3-20.strasbourg.iot-lab.info\",\n",
      "    \"m3-21.strasbourg.iot-lab.info\",\n",
      "    \"m3-22.strasbourg.iot-lab.info\",\n",
      "    \"m3-23.strasbourg.iot-lab.info\",\n",
      "    \"m3-24.strasbourg.iot-lab.info\",\n",
      "    \"m3-25.strasbourg.iot-lab.info\",\n",
      "    \"m3-26.strasbourg.iot-lab.info\",\n",
      "    \"m3-27.strasbourg.iot-lab.info\",\n",
      "    \"m3-28.strasbourg.iot-lab.info\",\n",
      "    \"m3-29.strasbourg.iot-lab.info\",\n",
      "    \"m3-3.strasbourg.iot-lab.info\",\n",
      "    \"m3-30.strasbourg.iot-lab.info\",\n",
      "    \"m3-31.strasbourg.iot-lab.info\",\n",
      "    \"m3-32.strasbourg.iot-lab.info\",\n",
      "    \"m3-33.strasbourg.iot-lab.info\",\n",
      "    \"m3-34.strasbourg.iot-lab.info\",\n",
      "    \"m3-35.strasbourg.iot-lab.info\",\n",
      "    \"m3-36.strasbourg.iot-lab.info\",\n",
      "    \"m3-37.strasbourg.iot-lab.info\",\n",
      "    \"m3-38.strasbourg.iot-lab.info\",\n",
      "    \"m3-39.strasbourg.iot-lab.info\",\n",
      "    \"m3-40.strasbourg.iot-lab.info\",\n",
      "    \"m3-41.strasbourg.iot-lab.info\",\n",
      "    \"m3-42.strasbourg.iot-lab.info\",\n",
      "    \"m3-43.strasbourg.iot-lab.info\",\n",
      "    \"m3-44.strasbourg.iot-lab.info\",\n",
      "    \"m3-45.strasbourg.iot-lab.info\",\n",
      "    \"m3-46.strasbourg.iot-lab.info\"\n",
      "]\n"
     ]
    }
   ],
   "source": [
    "!iotlab-experiment --jmespath=\"items[*].network_address | sort(@)\" get --nodes"
   ]
  },
  {
   "cell_type": "code",
   "execution_count": null,
   "metadata": {},
   "outputs": [],
   "source": []
  },
  {
   "cell_type": "markdown",
   "metadata": {},
   "source": [
    "From here you will interact with the nodes. To this end, you need to connect to node's serial link.\n",
    "\n",
    "5. For each of the three nodes open a Jupyter terminal (use `File > New > Terminal`), use the following command replacing `<id>` and `<site>` with the right values:"
   ]
  },
  {
   "cell_type": "raw",
   "metadata": {},
   "source": [
    "make -C ../RIOT/examples/default BOARD=iotlab-m3 IOTLAB_NODE=m3-34.strasbourg.iot-lab.info term"
   ]
  },
  {
   "cell_type": "raw",
   "metadata": {},
   "source": [
    "> txtsnd 3 bcast hello"
   ]
  },
  {
   "cell_type": "markdown",
   "metadata": {},
   "source": [
    "On the two other nodes terminals you should see that the radio packet has been received:\n",
    "```\n",
    "PKTDUMP: data received:\n",
    "~~ SNIP  0 - size:   5 byte, type: NETTYPE_UNDEF (0)\n",
    "00000000  68  65  6C  6C  6F\n",
    "~~ SNIP  1 - size:  12 byte, type: NETTYPE_NETIF (-1)\n",
    "if_pid: 4  rssi: -55  lqi: 255\n",
    "flags: BROADCAST \n",
    "src_l2addr: 11:15\n",
    "dst_l2addr: FF:FF\n",
    "~~ PKT    -  2 snips, total size:  17 byte\n",
    "```\n",
    "What does this output tell you ?\n",
    "- SNIP 0 = payload = 5 bytes `68  65  6C  6C  6F` for 5 characters ['h','e','l','l','o']\n",
    "- SNIP 1 = header ?\n",
    "  - `if_pid: 4  rssi: -55  lqi: 255` gives radio network interface informations: Received Signal Strength Indication (RSSI) and  the Link Quality Indicator (LQI)\n",
    "  - `src_l2addr: 11:15` gives the address of the sender\n",
    "  - `dst12_addr: FF:FF` is the broadcast destination address, which corresponds well to the `flags: BROADCAST`\n"
   ]
  },
  {
   "cell_type": "markdown",
   "metadata": {},
   "source": [
    "3. Send now a packet from the first node to the second. Specifying the radio interface of the sender and replace `<long_hwaddr>` with the address of the destination:"
   ]
  },
  {
   "cell_type": "raw",
   "metadata": {},
   "source": [
    "> txtsnd 3 <long_hwaddr> hello"
   ]
  },
  {
   "cell_type": "markdown",
   "metadata": {},
   "source": [
    "You should have a similar output in the destination node's terminal:\n",
    "```\n",
    "PKTDUMP: data received:\n",
    "~~ SNIP  0 - size:   5 byte, type: NETTYPE_UNDEF (0)\n",
    "00000000  68  65  6C  6C  6F\n",
    "~~ SNIP  1 - size:  12 byte, type: NETTYPE_NETIF (-1)\n",
    "if_pid: 4  rssi: -55  lqi: 255\n",
    "flags: 0x0\n",
    "src_l2addr: 11:15\n",
    "dst_l2addr: 2A:AC:F9:65:10:6B:11:15\n",
    "~~ PKT    -  2 snips, total size:  17 byte\n",
    "```\n",
    "\n",
    "- SNIP 0 remains the same since you send the same text message\n",
    "- SNIP 1 contains the destination address, which correspond well to the node's address whom print this output"
   ]
  },
  {
   "cell_type": "markdown",
   "metadata": {},
   "source": [
    "\n",
    "### Free up the resources\n",
    "\n",
    "Since you finished the training, stop your experiment to free up the experiment nodes:"
   ]
  },
  {
   "cell_type": "code",
   "execution_count": null,
   "metadata": {},
   "outputs": [],
   "source": [
    "!iotlab-experiment stop "
   ]
  },
  {
   "cell_type": "markdown",
   "metadata": {},
   "source": [
    "The serial link connection through SSH will be closed automatically."
   ]
  }
 ],
 "metadata": {
  "kernelspec": {
   "display_name": "Python 3 (ipykernel)",
   "language": "python",
   "name": "python3"
  },
  "language_info": {
   "codemirror_mode": {
    "name": "ipython",
    "version": 3
   },
   "file_extension": ".py",
   "mimetype": "text/x-python",
   "name": "python",
   "nbconvert_exporter": "python",
   "pygments_lexer": "ipython3",
   "version": "3.9.7"
  }
 },
 "nbformat": 4,
 "nbformat_minor": 4
}
